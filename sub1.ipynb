{
 "cells": [
  {
   "cell_type": "code",
   "execution_count": 34,
   "id": "d4951de7-60dd-43af-8843-5e4707af24fc",
   "metadata": {
    "tags": []
   },
   "outputs": [],
   "source": [
    "import pandas as pd\n",
    "import json\n",
    "from sklearn.preprocessing  import MultiLabelBinarizer\n",
    "from sklearn.model_selection import train_test_split\n",
    "from transformers import BertTokenizer, BertForSequenceClassification, Trainer , TrainingArguments \n",
    "import torch\n",
    "from sklearn.metrics import accuracy_score, precision_recall_fscore_support\n",
    "import numpy as np"
   ]
  },
  {
   "cell_type": "code",
   "execution_count": 35,
   "id": "0461f330-3f05-4167-ae46-881abcfa95e4",
   "metadata": {
    "tags": []
   },
   "outputs": [],
   "source": [
    "train_json_path='semeval2024_dev_release/subtask1/train.json'\n",
    "f=open(train_json_path,'r')\n",
    "train_json_data=json.loads(f.read())"
   ]
  },
  {
   "cell_type": "code",
   "execution_count": 36,
   "id": "7a226f48-1898-4dcf-8bef-a40d455a5596",
   "metadata": {
    "tags": []
   },
   "outputs": [],
   "source": [
    "val_json_path='semeval2024_dev_release/subtask1/validation.json'\n",
    "f=open(val_json_path,'r')\n",
    "val_data = json.load(f)\n",
    "df_val = pd.DataFrame(val_data)"
   ]
  },
  {
   "cell_type": "code",
   "execution_count": 37,
   "id": "a3bf1efd-d36b-44b1-823d-419197b4e0f8",
   "metadata": {
    "tags": []
   },
   "outputs": [],
   "source": [
    "df_train=pd.DataFrame(train_json_data)"
   ]
  },
  {
   "cell_type": "code",
   "execution_count": 39,
   "id": "b95fdc5a-7ead-4dca-9a70-7210f13e60bf",
   "metadata": {
    "tags": []
   },
   "outputs": [
    {
     "data": {
      "text/html": [
       "<div>\n",
       "<style scoped>\n",
       "    .dataframe tbody tr th:only-of-type {\n",
       "        vertical-align: middle;\n",
       "    }\n",
       "\n",
       "    .dataframe tbody tr th {\n",
       "        vertical-align: top;\n",
       "    }\n",
       "\n",
       "    .dataframe thead th {\n",
       "        text-align: right;\n",
       "    }\n",
       "</style>\n",
       "<table border=\"1\" class=\"dataframe\">\n",
       "  <thead>\n",
       "    <tr style=\"text-align: right;\">\n",
       "      <th></th>\n",
       "      <th>id</th>\n",
       "      <th>text</th>\n",
       "      <th>labels</th>\n",
       "      <th>link</th>\n",
       "    </tr>\n",
       "  </thead>\n",
       "  <tbody>\n",
       "    <tr>\n",
       "      <th>0</th>\n",
       "      <td>65635</td>\n",
       "      <td>THIS IS WHY YOU NEED\\n\\nA SHARPIE WITH YOU AT ...</td>\n",
       "      <td>[Black-and-white Fallacy/Dictatorship]</td>\n",
       "      <td>https://www.facebook.com/photo/?fbid=402355213...</td>\n",
       "    </tr>\n",
       "    <tr>\n",
       "      <th>1</th>\n",
       "      <td>67927</td>\n",
       "      <td>GOOD NEWS!\\n\\nNAZANIN ZAGHARI-RATCLIFFE AND AN...</td>\n",
       "      <td>[Loaded Language, Glittering generalities (Vir...</td>\n",
       "      <td>https://www.facebook.com/amnesty/photos/531198...</td>\n",
       "    </tr>\n",
       "    <tr>\n",
       "      <th>4</th>\n",
       "      <td>67641</td>\n",
       "      <td>WHEN YOU'RE THE FBI, THEY LET YOU DO IT.</td>\n",
       "      <td>[Thought-terminating cliché]</td>\n",
       "      <td>https://www.facebook.com/AddictingInfoOrg/phot...</td>\n",
       "    </tr>\n",
       "    <tr>\n",
       "      <th>6</th>\n",
       "      <td>79204</td>\n",
       "      <td>JANUARY 2021\\n\\nYOU DON'T BUY A 12 MILLION DOL...</td>\n",
       "      <td>[Whataboutism]</td>\n",
       "      <td>https://www.facebook.com/ResistanceFeed/photos...</td>\n",
       "    </tr>\n",
       "    <tr>\n",
       "      <th>7</th>\n",
       "      <td>79372</td>\n",
       "      <td>Term Limits Are Everywhere &amp; Politicians Can't...</td>\n",
       "      <td>[Slogans]</td>\n",
       "      <td>null</td>\n",
       "    </tr>\n",
       "  </tbody>\n",
       "</table>\n",
       "</div>"
      ],
      "text/plain": [
       "      id                                               text  \\\n",
       "0  65635  THIS IS WHY YOU NEED\\n\\nA SHARPIE WITH YOU AT ...   \n",
       "1  67927  GOOD NEWS!\\n\\nNAZANIN ZAGHARI-RATCLIFFE AND AN...   \n",
       "4  67641           WHEN YOU'RE THE FBI, THEY LET YOU DO IT.   \n",
       "6  79204  JANUARY 2021\\n\\nYOU DON'T BUY A 12 MILLION DOL...   \n",
       "7  79372  Term Limits Are Everywhere & Politicians Can't...   \n",
       "\n",
       "                                              labels  \\\n",
       "0             [Black-and-white Fallacy/Dictatorship]   \n",
       "1  [Loaded Language, Glittering generalities (Vir...   \n",
       "4                       [Thought-terminating cliché]   \n",
       "6                                     [Whataboutism]   \n",
       "7                                          [Slogans]   \n",
       "\n",
       "                                                link  \n",
       "0  https://www.facebook.com/photo/?fbid=402355213...  \n",
       "1  https://www.facebook.com/amnesty/photos/531198...  \n",
       "4  https://www.facebook.com/AddictingInfoOrg/phot...  \n",
       "6  https://www.facebook.com/ResistanceFeed/photos...  \n",
       "7                                               null  "
      ]
     },
     "execution_count": 39,
     "metadata": {},
     "output_type": "execute_result"
    }
   ],
   "source": [
    "df_train['len']=df_train['labels'].apply(lambda x: len(x))\n",
    "df_train=df_train[df_train['len']>0].drop('len',axis=1)\n",
    "df_train.head()"
   ]
  },
  {
   "cell_type": "code",
   "execution_count": 51,
   "id": "41077fcc-a9fc-4a46-9036-a2af25357a63",
   "metadata": {
    "tags": []
   },
   "outputs": [],
   "source": [
    "\n",
    "def split_combined_labels(labels):\n",
    "    new_labels = []\n",
    "    for label in labels:\n",
    "        if '/' in label:\n",
    "            new_labels.extend(label.split('/'))\n",
    "        else:\n",
    "            new_labels.append(label)\n",
    "    return new_labels"
   ]
  },
  {
   "cell_type": "code",
   "execution_count": 52,
   "id": "18dcbaf2-183c-4008-85c0-37b90cbee826",
   "metadata": {
    "tags": []
   },
   "outputs": [
    {
     "data": {
      "text/html": [
       "<div>\n",
       "<style scoped>\n",
       "    .dataframe tbody tr th:only-of-type {\n",
       "        vertical-align: middle;\n",
       "    }\n",
       "\n",
       "    .dataframe tbody tr th {\n",
       "        vertical-align: top;\n",
       "    }\n",
       "\n",
       "    .dataframe thead th {\n",
       "        text-align: right;\n",
       "    }\n",
       "</style>\n",
       "<table border=\"1\" class=\"dataframe\">\n",
       "  <thead>\n",
       "    <tr style=\"text-align: right;\">\n",
       "      <th></th>\n",
       "      <th>id</th>\n",
       "      <th>text</th>\n",
       "      <th>labels</th>\n",
       "      <th>link</th>\n",
       "      <th>hierarchy</th>\n",
       "    </tr>\n",
       "  </thead>\n",
       "  <tbody>\n",
       "    <tr>\n",
       "      <th>0</th>\n",
       "      <td>65635</td>\n",
       "      <td>THIS IS WHY YOU NEED\\n\\nA SHARPIE WITH YOU AT ...</td>\n",
       "      <td>[Black-and-white Fallacy, Dictatorship]</td>\n",
       "      <td>https://www.facebook.com/photo/?fbid=402355213...</td>\n",
       "      <td>[]</td>\n",
       "    </tr>\n",
       "    <tr>\n",
       "      <th>1</th>\n",
       "      <td>67927</td>\n",
       "      <td>GOOD NEWS!\\n\\nNAZANIN ZAGHARI-RATCLIFFE AND AN...</td>\n",
       "      <td>[Loaded Language, Glittering generalities (Vir...</td>\n",
       "      <td>https://www.facebook.com/amnesty/photos/531198...</td>\n",
       "      <td>[Pathos]</td>\n",
       "    </tr>\n",
       "    <tr>\n",
       "      <th>4</th>\n",
       "      <td>67641</td>\n",
       "      <td>WHEN YOU'RE THE FBI, THEY LET YOU DO IT.</td>\n",
       "      <td>[Thought-terminating cliché]</td>\n",
       "      <td>https://www.facebook.com/AddictingInfoOrg/phot...</td>\n",
       "      <td>[]</td>\n",
       "    </tr>\n",
       "    <tr>\n",
       "      <th>6</th>\n",
       "      <td>79204</td>\n",
       "      <td>JANUARY 2021\\n\\nYOU DON'T BUY A 12 MILLION DOL...</td>\n",
       "      <td>[Whataboutism]</td>\n",
       "      <td>https://www.facebook.com/ResistanceFeed/photos...</td>\n",
       "      <td>[Ad Hominem, Distraction]</td>\n",
       "    </tr>\n",
       "    <tr>\n",
       "      <th>7</th>\n",
       "      <td>79372</td>\n",
       "      <td>Term Limits Are Everywhere &amp; Politicians Can't...</td>\n",
       "      <td>[Slogans]</td>\n",
       "      <td>null</td>\n",
       "      <td>[Justification]</td>\n",
       "    </tr>\n",
       "  </tbody>\n",
       "</table>\n",
       "</div>"
      ],
      "text/plain": [
       "      id                                               text  \\\n",
       "0  65635  THIS IS WHY YOU NEED\\n\\nA SHARPIE WITH YOU AT ...   \n",
       "1  67927  GOOD NEWS!\\n\\nNAZANIN ZAGHARI-RATCLIFFE AND AN...   \n",
       "4  67641           WHEN YOU'RE THE FBI, THEY LET YOU DO IT.   \n",
       "6  79204  JANUARY 2021\\n\\nYOU DON'T BUY A 12 MILLION DOL...   \n",
       "7  79372  Term Limits Are Everywhere & Politicians Can't...   \n",
       "\n",
       "                                              labels  \\\n",
       "0            [Black-and-white Fallacy, Dictatorship]   \n",
       "1  [Loaded Language, Glittering generalities (Vir...   \n",
       "4                       [Thought-terminating cliché]   \n",
       "6                                     [Whataboutism]   \n",
       "7                                          [Slogans]   \n",
       "\n",
       "                                                link  \\\n",
       "0  https://www.facebook.com/photo/?fbid=402355213...   \n",
       "1  https://www.facebook.com/amnesty/photos/531198...   \n",
       "4  https://www.facebook.com/AddictingInfoOrg/phot...   \n",
       "6  https://www.facebook.com/ResistanceFeed/photos...   \n",
       "7                                               null   \n",
       "\n",
       "                   hierarchy  \n",
       "0                         []  \n",
       "1                   [Pathos]  \n",
       "4                         []  \n",
       "6  [Ad Hominem, Distraction]  \n",
       "7            [Justification]  "
      ]
     },
     "execution_count": 52,
     "metadata": {},
     "output_type": "execute_result"
    }
   ],
   "source": [
    "# Apply the function to the labels column\n",
    "df_train['labels'] = df_train['labels'].apply(split_combined_labels)\n",
    "df_train.head()"
   ]
  },
  {
   "cell_type": "code",
   "execution_count": 59,
   "id": "ffdf1d93-2067-4b01-b84f-07e882c78705",
   "metadata": {
    "tags": []
   },
   "outputs": [
    {
     "data": {
      "text/plain": [
       "{'Black-and-white Fallacy': 780,\n",
       " 'Dictatorship': 780,\n",
       " 'Loaded Language': 1750,\n",
       " 'Glittering generalities (Virtue)': 488,\n",
       " 'Thought-terminating cliché': 528,\n",
       " 'Whataboutism': 258,\n",
       " 'Slogans': 667,\n",
       " 'Causal Oversimplification': 240,\n",
       " 'Smears': 1990,\n",
       " 'Name calling': 1518,\n",
       " 'Labeling': 1518,\n",
       " 'Appeal to authority': 850,\n",
       " 'Exaggeration': 356,\n",
       " 'Minimisation': 356,\n",
       " 'Repetition': 305,\n",
       " 'Flag-waving': 571,\n",
       " 'Appeal to fear': 337,\n",
       " 'prejudice': 337,\n",
       " 'Reductio ad hitlerum': 63,\n",
       " 'Doubt': 350,\n",
       " \"Misrepresentation of Someone's Position (Straw Man)\": 62,\n",
       " 'Obfuscation, Intentional vagueness, Confusion': 21,\n",
       " 'Bandwagon': 97,\n",
       " 'Presenting Irrelevant Data (Red Herring)': 59}"
      ]
     },
     "execution_count": 59,
     "metadata": {},
     "output_type": "execute_result"
    }
   ],
   "source": [
    "all_labels={}\n",
    "\n",
    "for label in df_train['labels']:\n",
    "    for item in label:\n",
    "        if item not in all_labels:\n",
    "            all_labels[item]=1\n",
    "        else:\n",
    "            all_labels[item]+=1\n",
    "            \n",
    "\n",
    "all_labels\n",
    "        "
   ]
  },
  {
   "cell_type": "code",
   "execution_count": 60,
   "id": "bda069ea-a036-4c73-888c-383c5f82edcc",
   "metadata": {
    "tags": []
   },
   "outputs": [],
   "source": [
    "# Defining the hierarchy of persuasion techniques based on the provided image\n",
    "ph = {\n",
    "    'Persuasion': ['Ethos', 'Pathos', 'Logos'],\n",
    "    'Ethos': ['Ad Hominem', 'Bandwagon', 'Appeal to Authority', 'Glittering generalities (Virtue)', 'Transfer'],\n",
    "    'Pathos': ['Appeal to Emotion', 'Exaggeration', 'Loaded Language', 'Flag Waving', 'Appeal to fear', 'Transfer'],\n",
    "    'Logos': ['Justification', 'Reasoning', 'Repetition', 'Intentional vagueness'],\n",
    "    'Ad Hominem': ['Name calling', 'Doubt', 'Smears', 'Reductio ad hitlerum', 'Whataboutism'],\n",
    "    'Justification': ['Bandwagon', 'Appeal to Authority', 'Flag Waving', 'Appeal to fear', 'Slogans'],\n",
    "    'Reasoning': ['Distraction', 'Simplification'],\n",
    "    'Distraction': ['Straw Man', 'Red Herring', 'Whataboutism','Presenting Irrelevant Data (Red Herring)'],\n",
    "    'Simplification': ['Causal Oversimplification', 'Black-and-white Fallacy', 'Thought-terminating cliché'],\n",
    "    'Others' : ['Minimisation','Labeling','prejudice',\"Misrepresentation of Someone's Position (Straw Man)\"]\n",
    "}"
   ]
  },
  {
   "cell_type": "code",
   "execution_count": 65,
   "id": "12ff7e07-9ca0-4c50-bf01-9327ab39ec3d",
   "metadata": {
    "tags": []
   },
   "outputs": [],
   "source": [
    "# Reverse lookup function\n",
    "def find_hierarchy_labels(labels, ph):\n",
    "    hierarchy_labels = set()\n",
    "    for label in labels:\n",
    "        for key, values in ph.items():\n",
    "            if label in values:\n",
    "                hierarchy_labels.add(key)\n",
    "    return list(hierarchy_labels)\n",
    "\n",
    "# Apply the function to create the hierarchy column\n",
    "df_train['hierarchy'] = df_train['labels'].apply(lambda x: find_hierarchy_labels(x, ph))\n",
    "df_val['hierarchy'] = df_val['labels'].apply(lambda x: find_hierarchy_labels(x, ph))\n"
   ]
  },
  {
   "cell_type": "code",
   "execution_count": 66,
   "id": "2248ad36-ea44-4ac2-9817-aef5595d55d6",
   "metadata": {
    "tags": []
   },
   "outputs": [
    {
     "data": {
      "text/html": [
       "<div>\n",
       "<style scoped>\n",
       "    .dataframe tbody tr th:only-of-type {\n",
       "        vertical-align: middle;\n",
       "    }\n",
       "\n",
       "    .dataframe tbody tr th {\n",
       "        vertical-align: top;\n",
       "    }\n",
       "\n",
       "    .dataframe thead th {\n",
       "        text-align: right;\n",
       "    }\n",
       "</style>\n",
       "<table border=\"1\" class=\"dataframe\">\n",
       "  <thead>\n",
       "    <tr style=\"text-align: right;\">\n",
       "      <th></th>\n",
       "      <th>id</th>\n",
       "      <th>text</th>\n",
       "      <th>labels</th>\n",
       "      <th>link</th>\n",
       "      <th>hierarchy</th>\n",
       "    </tr>\n",
       "  </thead>\n",
       "  <tbody>\n",
       "    <tr>\n",
       "      <th>0</th>\n",
       "      <td>65635</td>\n",
       "      <td>THIS IS WHY YOU NEED\\n\\nA SHARPIE WITH YOU AT ...</td>\n",
       "      <td>[Black-and-white Fallacy, Dictatorship]</td>\n",
       "      <td>https://www.facebook.com/photo/?fbid=402355213...</td>\n",
       "      <td>[Simplification]</td>\n",
       "    </tr>\n",
       "    <tr>\n",
       "      <th>1</th>\n",
       "      <td>67927</td>\n",
       "      <td>GOOD NEWS!\\n\\nNAZANIN ZAGHARI-RATCLIFFE AND AN...</td>\n",
       "      <td>[Loaded Language, Glittering generalities (Vir...</td>\n",
       "      <td>https://www.facebook.com/amnesty/photos/531198...</td>\n",
       "      <td>[Pathos, Ethos]</td>\n",
       "    </tr>\n",
       "    <tr>\n",
       "      <th>4</th>\n",
       "      <td>67641</td>\n",
       "      <td>WHEN YOU'RE THE FBI, THEY LET YOU DO IT.</td>\n",
       "      <td>[Thought-terminating cliché]</td>\n",
       "      <td>https://www.facebook.com/AddictingInfoOrg/phot...</td>\n",
       "      <td>[Simplification]</td>\n",
       "    </tr>\n",
       "    <tr>\n",
       "      <th>6</th>\n",
       "      <td>79204</td>\n",
       "      <td>JANUARY 2021\\n\\nYOU DON'T BUY A 12 MILLION DOL...</td>\n",
       "      <td>[Whataboutism]</td>\n",
       "      <td>https://www.facebook.com/ResistanceFeed/photos...</td>\n",
       "      <td>[Ad Hominem, Distraction]</td>\n",
       "    </tr>\n",
       "    <tr>\n",
       "      <th>7</th>\n",
       "      <td>79372</td>\n",
       "      <td>Term Limits Are Everywhere &amp; Politicians Can't...</td>\n",
       "      <td>[Slogans]</td>\n",
       "      <td>null</td>\n",
       "      <td>[Justification]</td>\n",
       "    </tr>\n",
       "  </tbody>\n",
       "</table>\n",
       "</div>"
      ],
      "text/plain": [
       "      id                                               text  \\\n",
       "0  65635  THIS IS WHY YOU NEED\\n\\nA SHARPIE WITH YOU AT ...   \n",
       "1  67927  GOOD NEWS!\\n\\nNAZANIN ZAGHARI-RATCLIFFE AND AN...   \n",
       "4  67641           WHEN YOU'RE THE FBI, THEY LET YOU DO IT.   \n",
       "6  79204  JANUARY 2021\\n\\nYOU DON'T BUY A 12 MILLION DOL...   \n",
       "7  79372  Term Limits Are Everywhere & Politicians Can't...   \n",
       "\n",
       "                                              labels  \\\n",
       "0            [Black-and-white Fallacy, Dictatorship]   \n",
       "1  [Loaded Language, Glittering generalities (Vir...   \n",
       "4                       [Thought-terminating cliché]   \n",
       "6                                     [Whataboutism]   \n",
       "7                                          [Slogans]   \n",
       "\n",
       "                                                link  \\\n",
       "0  https://www.facebook.com/photo/?fbid=402355213...   \n",
       "1  https://www.facebook.com/amnesty/photos/531198...   \n",
       "4  https://www.facebook.com/AddictingInfoOrg/phot...   \n",
       "6  https://www.facebook.com/ResistanceFeed/photos...   \n",
       "7                                               null   \n",
       "\n",
       "                   hierarchy  \n",
       "0           [Simplification]  \n",
       "1            [Pathos, Ethos]  \n",
       "4           [Simplification]  \n",
       "6  [Ad Hominem, Distraction]  \n",
       "7            [Justification]  "
      ]
     },
     "execution_count": 66,
     "metadata": {},
     "output_type": "execute_result"
    }
   ],
   "source": [
    "df_train.head()"
   ]
  },
  {
   "cell_type": "code",
   "execution_count": 67,
   "id": "517fcdf1-e75e-4a28-a0c2-de0b8de60af7",
   "metadata": {
    "tags": []
   },
   "outputs": [
    {
     "data": {
      "text/html": [
       "<div>\n",
       "<style scoped>\n",
       "    .dataframe tbody tr th:only-of-type {\n",
       "        vertical-align: middle;\n",
       "    }\n",
       "\n",
       "    .dataframe tbody tr th {\n",
       "        vertical-align: top;\n",
       "    }\n",
       "\n",
       "    .dataframe thead th {\n",
       "        text-align: right;\n",
       "    }\n",
       "</style>\n",
       "<table border=\"1\" class=\"dataframe\">\n",
       "  <thead>\n",
       "    <tr style=\"text-align: right;\">\n",
       "      <th></th>\n",
       "      <th>id</th>\n",
       "      <th>text</th>\n",
       "      <th>labels</th>\n",
       "      <th>link</th>\n",
       "      <th>hierarchy</th>\n",
       "    </tr>\n",
       "  </thead>\n",
       "  <tbody>\n",
       "    <tr>\n",
       "      <th>0</th>\n",
       "      <td>63135</td>\n",
       "      <td>Critical Thinking Essentials\\n\\Are my biases a...</td>\n",
       "      <td>[Doubt, Slogans]</td>\n",
       "      <td>https://www.facebook.com/SkepticalMemeSociety/...</td>\n",
       "      <td>[Justification, Ad Hominem]</td>\n",
       "    </tr>\n",
       "    <tr>\n",
       "      <th>1</th>\n",
       "      <td>78590</td>\n",
       "      <td>Trying to think of a single accomplishment...</td>\n",
       "      <td>[Exaggeration/Minimisation, Smears]</td>\n",
       "      <td>https://www.facebook.com/unitedstatesherald/ph...</td>\n",
       "      <td>[Ad Hominem]</td>\n",
       "    </tr>\n",
       "    <tr>\n",
       "      <th>2</th>\n",
       "      <td>65834</td>\n",
       "      <td>Corporate needs you to find the difference bet...</td>\n",
       "      <td>[Thought-terminating cliché]</td>\n",
       "      <td>https://www.facebook.com/photo/?fbid=356249413...</td>\n",
       "      <td>[Simplification]</td>\n",
       "    </tr>\n",
       "    <tr>\n",
       "      <th>3</th>\n",
       "      <td>67394</td>\n",
       "      <td>KYLE RITTENHOUSE\\nALL CHARGES\\nNOT GUILTY</td>\n",
       "      <td>[Glittering generalities (Virtue)]</td>\n",
       "      <td>https://www.facebook.com/TheControversia/photo...</td>\n",
       "      <td>[Ethos]</td>\n",
       "    </tr>\n",
       "    <tr>\n",
       "      <th>4</th>\n",
       "      <td>67709</td>\n",
       "      <td>Al Franken explains why America should tax the...</td>\n",
       "      <td>[Appeal to authority, Slogans, Thought-termina...</td>\n",
       "      <td>https://www.facebook.com/AddictingInfoOrg/phot...</td>\n",
       "      <td>[Justification, Simplification]</td>\n",
       "    </tr>\n",
       "  </tbody>\n",
       "</table>\n",
       "</div>"
      ],
      "text/plain": [
       "      id                                               text  \\\n",
       "0  63135  Critical Thinking Essentials\\n\\Are my biases a...   \n",
       "1  78590      Trying to think of a single accomplishment...   \n",
       "2  65834  Corporate needs you to find the difference bet...   \n",
       "3  67394          KYLE RITTENHOUSE\\nALL CHARGES\\nNOT GUILTY   \n",
       "4  67709  Al Franken explains why America should tax the...   \n",
       "\n",
       "                                              labels  \\\n",
       "0                                   [Doubt, Slogans]   \n",
       "1                [Exaggeration/Minimisation, Smears]   \n",
       "2                       [Thought-terminating cliché]   \n",
       "3                 [Glittering generalities (Virtue)]   \n",
       "4  [Appeal to authority, Slogans, Thought-termina...   \n",
       "\n",
       "                                                link  \\\n",
       "0  https://www.facebook.com/SkepticalMemeSociety/...   \n",
       "1  https://www.facebook.com/unitedstatesherald/ph...   \n",
       "2  https://www.facebook.com/photo/?fbid=356249413...   \n",
       "3  https://www.facebook.com/TheControversia/photo...   \n",
       "4  https://www.facebook.com/AddictingInfoOrg/phot...   \n",
       "\n",
       "                         hierarchy  \n",
       "0      [Justification, Ad Hominem]  \n",
       "1                     [Ad Hominem]  \n",
       "2                 [Simplification]  \n",
       "3                          [Ethos]  \n",
       "4  [Justification, Simplification]  "
      ]
     },
     "execution_count": 67,
     "metadata": {},
     "output_type": "execute_result"
    }
   ],
   "source": [
    "df_val.head()"
   ]
  },
  {
   "cell_type": "code",
   "execution_count": 68,
   "id": "d3abe7e1-d969-4fc5-82f7-905814b63ef5",
   "metadata": {
    "tags": []
   },
   "outputs": [
    {
     "data": {
      "text/plain": [
       "hierarchy\n",
       "[Ad Hominem]                                848\n",
       "[Ad Hominem, Others]                        570\n",
       "[Simplification]                            491\n",
       "[Pathos, Ad Hominem, Others]                369\n",
       "[Pathos]                                    317\n",
       "                                           ... \n",
       "[Pathos, Logos, Ethos]                        1\n",
       "[Ethos, Ad Hominem, Pathos, Distraction]      1\n",
       "[Ethos, Ad Hominem, Pathos, Others]           1\n",
       "[Logos, Distraction]                          1\n",
       "[Justification, Logos, Pathos]                1\n",
       "Name: count, Length: 145, dtype: int64"
      ]
     },
     "execution_count": 68,
     "metadata": {},
     "output_type": "execute_result"
    }
   ],
   "source": [
    "df_train['hierarchy'].value_counts()"
   ]
  },
  {
   "cell_type": "code",
   "execution_count": 5,
   "id": "00e70d7e-8ef3-4710-bf15-be47a37db17d",
   "metadata": {
    "tags": []
   },
   "outputs": [
    {
     "name": "stderr",
     "output_type": "stream",
     "text": [
      "/Users/rakeshkantharaju/anaconda3/lib/python3.11/site-packages/huggingface_hub/file_download.py:1132: FutureWarning: `resume_download` is deprecated and will be removed in version 1.0.0. Downloads always resume when possible. If you want to force a new download, use `force_download=True`.\n",
      "  warnings.warn(\n"
     ]
    }
   ],
   "source": [
    "tokenizer=BertTokenizer.from_pretrained('bert-base-uncased')\n",
    "# encode the labels \n",
    "\n",
    "mlb=MultiLabelBinarizer()\n",
    "train_labels_encoded=mlb.fit_transform(df_train['labels'])\n",
    "val_labels_encoded=mlb.fit_transform(df_val['labels'])"
   ]
  },
  {
   "cell_type": "code",
   "execution_count": 69,
   "id": "27064c85-67fb-4c7d-93a7-409d7814234a",
   "metadata": {
    "tags": []
   },
   "outputs": [
    {
     "name": "stderr",
     "output_type": "stream",
     "text": [
      "/Users/rakeshkantharaju/anaconda3/lib/python3.11/site-packages/huggingface_hub/file_download.py:1132: FutureWarning: `resume_download` is deprecated and will be removed in version 1.0.0. Downloads always resume when possible. If you want to force a new download, use `force_download=True`.\n",
      "  warnings.warn(\n"
     ]
    }
   ],
   "source": [
    "## for hie\n",
    "\n",
    "tokenizer=BertTokenizer.from_pretrained('bert-base-uncased')\n",
    "# encode the labels \n",
    "\n",
    "mlb=MultiLabelBinarizer()\n",
    "train_labels_encoded=mlb.fit_transform(df_train['hierarchy'])\n",
    "val_labels_encoded=mlb.fit_transform(df_val['hierarchy'])"
   ]
  },
  {
   "cell_type": "code",
   "execution_count": 70,
   "id": "6849657b-004a-45cd-a41c-112d231ca900",
   "metadata": {
    "tags": []
   },
   "outputs": [
    {
     "data": {
      "text/plain": [
       "(5736, 8)"
      ]
     },
     "execution_count": 70,
     "metadata": {},
     "output_type": "execute_result"
    }
   ],
   "source": [
    "train_labels_encoded.shape"
   ]
  },
  {
   "cell_type": "code",
   "execution_count": 71,
   "id": "d91fc583-8141-4f0c-b9b1-04b6350c4d20",
   "metadata": {
    "tags": []
   },
   "outputs": [
    {
     "data": {
      "text/plain": [
       "(500, 8)"
      ]
     },
     "execution_count": 71,
     "metadata": {},
     "output_type": "execute_result"
    }
   ],
   "source": [
    "val_labels_encoded.shape"
   ]
  },
  {
   "cell_type": "code",
   "execution_count": 72,
   "id": "5a22c133-c3a9-4764-95b2-76e8bd987d85",
   "metadata": {
    "tags": []
   },
   "outputs": [],
   "source": [
    "# tokenize the text\n",
    "train_encodings = tokenizer(df_train['text'].tolist(), truncation=True, padding=True, max_length=512)\n",
    "val_encodings=tokenizer(df_val['text'].tolist(), truncation=True, padding=True, max_length=512)\n"
   ]
  },
  {
   "cell_type": "code",
   "execution_count": 73,
   "id": "03f70d7c-1589-4b40-a5c6-4c2f4dd99cab",
   "metadata": {
    "tags": []
   },
   "outputs": [],
   "source": [
    "# labels to tensor\n",
    "train_labels=torch.tensor(train_labels_encoded)\n",
    "val_labels=torch.tensor(val_labels_encoded)"
   ]
  },
  {
   "cell_type": "code",
   "execution_count": 74,
   "id": "5c6d762d-b9a9-40c4-8409-e0b61a79f762",
   "metadata": {
    "tags": []
   },
   "outputs": [
    {
     "data": {
      "text/plain": [
       "(torch.Size([5736, 8]), torch.Size([500, 8]))"
      ]
     },
     "execution_count": 74,
     "metadata": {},
     "output_type": "execute_result"
    }
   ],
   "source": [
    "train_labels.shape,val_labels.shape"
   ]
  },
  {
   "cell_type": "code",
   "execution_count": 75,
   "id": "d7a8c78d-3551-43ab-96c4-17fbad0e89df",
   "metadata": {
    "tags": []
   },
   "outputs": [],
   "source": [
    "# Define a custom dataset class\n",
    "class Dataset(torch.utils.data.Dataset):\n",
    "    def __init__(self, encodings, labels):\n",
    "        self.encodings = encodings\n",
    "        self.labels = labels\n",
    "\n",
    "    def __getitem__(self, idx):\n",
    "        item = {key: torch.tensor(val[idx]) for key, val in self.encodings.items()}\n",
    "        item['labels'] = torch.tensor(self.labels[idx]).float()\n",
    "        return item\n",
    "\n",
    "    def __len__(self):\n",
    "        return len(self.labels)"
   ]
  },
  {
   "cell_type": "code",
   "execution_count": 76,
   "id": "bc763b1f-9d35-4091-89bd-f5cacaaa623b",
   "metadata": {
    "tags": []
   },
   "outputs": [],
   "source": [
    "train_dataset = Dataset(train_encodings, train_labels)\n",
    "val_dataset = Dataset(val_encodings, val_labels)"
   ]
  },
  {
   "cell_type": "code",
   "execution_count": 77,
   "id": "45cc3025-7f37-4adb-9bb4-a1c43e55bece",
   "metadata": {
    "tags": []
   },
   "outputs": [
    {
     "name": "stderr",
     "output_type": "stream",
     "text": [
      "Some weights of the model checkpoint at bert-base-uncased were not used when initializing BertForSequenceClassification: ['cls.predictions.transform.LayerNorm.weight', 'cls.predictions.transform.dense.weight', 'cls.seq_relationship.weight', 'cls.predictions.transform.LayerNorm.bias', 'cls.predictions.transform.dense.bias', 'cls.predictions.bias', 'cls.seq_relationship.bias']\n",
      "- This IS expected if you are initializing BertForSequenceClassification from the checkpoint of a model trained on another task or with another architecture (e.g. initializing a BertForSequenceClassification model from a BertForPreTraining model).\n",
      "- This IS NOT expected if you are initializing BertForSequenceClassification from the checkpoint of a model that you expect to be exactly identical (initializing a BertForSequenceClassification model from a BertForSequenceClassification model).\n",
      "Some weights of BertForSequenceClassification were not initialized from the model checkpoint at bert-base-uncased and are newly initialized: ['classifier.bias', 'classifier.weight']\n",
      "You should probably TRAIN this model on a down-stream task to be able to use it for predictions and inference.\n"
     ]
    }
   ],
   "source": [
    "# Load the model\n",
    "model = BertForSequenceClassification.from_pretrained('bert-base-uncased', num_labels=len(mlb.classes_))\n"
   ]
  },
  {
   "cell_type": "code",
   "execution_count": 78,
   "id": "b5da5fec-eaa5-47e8-82ab-78b2d18e9648",
   "metadata": {
    "tags": []
   },
   "outputs": [],
   "source": [
    "# Training arguments\n",
    "training_args = TrainingArguments(\n",
    "    output_dir='./sub1_results',\n",
    "    num_train_epochs=3,\n",
    "    per_device_train_batch_size=8,\n",
    "    per_device_eval_batch_size=8,\n",
    "    warmup_steps=500,\n",
    "    weight_decay=0.01,\n",
    "    logging_dir='./logs',\n",
    "    logging_steps=10,\n",
    "    evaluation_strategy=\"epoch\"\n",
    ")"
   ]
  },
  {
   "cell_type": "code",
   "execution_count": 15,
   "id": "9a1a5a60-0ab3-4cdd-b6e1-b36a0c76779a",
   "metadata": {
    "tags": []
   },
   "outputs": [],
   "source": [
    "# # Trainer\n",
    "# trainer = Trainer(\n",
    "#     model=model,\n",
    "#     args=training_args,\n",
    "#     train_dataset=train_dataset,\n",
    "#     eval_dataset=val_dataset\n",
    "# )"
   ]
  },
  {
   "cell_type": "code",
   "execution_count": null,
   "id": "77815b4b-fb16-40b9-a5ec-33c0bf7bf0d3",
   "metadata": {},
   "outputs": [],
   "source": []
  },
  {
   "cell_type": "code",
   "execution_count": 79,
   "id": "fa308837-28cd-475a-bb69-51b0dea5af0d",
   "metadata": {
    "tags": []
   },
   "outputs": [],
   "source": [
    "# # Train the model\n",
    "# trainer.train()\n",
    "\n",
    "# # Evaluate the model\n",
    "# eval_result = trainer.evaluate()\n",
    "\n",
    "# print(\"Evaluation results:\", eval_result)"
   ]
  },
  {
   "cell_type": "code",
   "execution_count": 80,
   "id": "5b78dd0e-5471-4f0f-af74-fb2d563739c0",
   "metadata": {},
   "outputs": [],
   "source": [
    "predicted_labels = []\n",
    "actual_labels = []\n",
    "\n",
    "def compute_metrics(pred):\n",
    "    labels = pred.label_ids\n",
    "    preds = (pred.predictions > 0.5).astype(int)\n",
    "    \n",
    "    # Store the labels\n",
    "    predicted_labels.extend(preds)\n",
    "    actual_labels.extend(labels)\n",
    "    \n",
    "    precision, recall, f1, _ = precision_recall_fscore_support(labels, preds, average='weighted')\n",
    "    acc = accuracy_score(labels, preds)\n",
    "    return {\n",
    "        'accuracy': acc,\n",
    "        'f1': f1,\n",
    "        'precision': precision,\n",
    "        'recall': recall\n",
    "    }"
   ]
  },
  {
   "cell_type": "code",
   "execution_count": 81,
   "id": "47bcbe0d-1d3a-403b-a81f-31f515318ce0",
   "metadata": {
    "tags": []
   },
   "outputs": [],
   "source": [
    "# Training arguments\n",
    "training_args = TrainingArguments(\n",
    "    output_dir='./results',\n",
    "    num_train_epochs=1,\n",
    "    per_device_train_batch_size=8,\n",
    "    per_device_eval_batch_size=8,\n",
    "    warmup_steps=500,\n",
    "    weight_decay=0.01,\n",
    "    logging_dir='./logs',\n",
    "    logging_steps=10,\n",
    "    evaluation_strategy=\"epoch\"\n",
    ")"
   ]
  },
  {
   "cell_type": "code",
   "execution_count": 82,
   "id": "c63cd933-2e70-41e3-9c3c-9711b372cc84",
   "metadata": {
    "tags": []
   },
   "outputs": [
    {
     "name": "stderr",
     "output_type": "stream",
     "text": [
      "/Users/rakeshkantharaju/anaconda3/lib/python3.11/site-packages/transformers/optimization.py:391: FutureWarning: This implementation of AdamW is deprecated and will be removed in a future version. Use the PyTorch implementation torch.optim.AdamW instead, or set `no_deprecation_warning=True` to disable this warning\n",
      "  warnings.warn(\n",
      "/var/folders/sz/vd3jtnkx0f7crslcw73k1nv40000gn/T/ipykernel_30719/2932711914.py:9: UserWarning: To copy construct from a tensor, it is recommended to use sourceTensor.clone().detach() or sourceTensor.clone().detach().requires_grad_(True), rather than torch.tensor(sourceTensor).\n",
      "  item['labels'] = torch.tensor(self.labels[idx]).float()\n"
     ]
    },
    {
     "data": {
      "text/html": [
       "\n",
       "    <div>\n",
       "      \n",
       "      <progress value='717' max='717' style='width:300px; height:20px; vertical-align: middle;'></progress>\n",
       "      [717/717 1:02:34, Epoch 1/1]\n",
       "    </div>\n",
       "    <table border=\"1\" class=\"dataframe\">\n",
       "  <thead>\n",
       " <tr style=\"text-align: left;\">\n",
       "      <th>Epoch</th>\n",
       "      <th>Training Loss</th>\n",
       "      <th>Validation Loss</th>\n",
       "      <th>Accuracy</th>\n",
       "      <th>F1</th>\n",
       "      <th>Precision</th>\n",
       "      <th>Recall</th>\n",
       "    </tr>\n",
       "  </thead>\n",
       "  <tbody>\n",
       "    <tr>\n",
       "      <td>1</td>\n",
       "      <td>0.406900</td>\n",
       "      <td>0.384754</td>\n",
       "      <td>0.308000</td>\n",
       "      <td>0.291515</td>\n",
       "      <td>0.326244</td>\n",
       "      <td>0.305769</td>\n",
       "    </tr>\n",
       "  </tbody>\n",
       "</table><p>"
      ],
      "text/plain": [
       "<IPython.core.display.HTML object>"
      ]
     },
     "metadata": {},
     "output_type": "display_data"
    },
    {
     "name": "stderr",
     "output_type": "stream",
     "text": [
      "/var/folders/sz/vd3jtnkx0f7crslcw73k1nv40000gn/T/ipykernel_30719/2932711914.py:9: UserWarning: To copy construct from a tensor, it is recommended to use sourceTensor.clone().detach() or sourceTensor.clone().detach().requires_grad_(True), rather than torch.tensor(sourceTensor).\n",
      "  item['labels'] = torch.tensor(self.labels[idx]).float()\n",
      "/Users/rakeshkantharaju/anaconda3/lib/python3.11/site-packages/sklearn/metrics/_classification.py:1344: UndefinedMetricWarning: Precision and F-score are ill-defined and being set to 0.0 in labels with no predicted samples. Use `zero_division` parameter to control this behavior.\n",
      "  _warn_prf(average, modifier, msg_start, len(result))\n",
      "/var/folders/sz/vd3jtnkx0f7crslcw73k1nv40000gn/T/ipykernel_30719/2932711914.py:9: UserWarning: To copy construct from a tensor, it is recommended to use sourceTensor.clone().detach() or sourceTensor.clone().detach().requires_grad_(True), rather than torch.tensor(sourceTensor).\n",
      "  item['labels'] = torch.tensor(self.labels[idx]).float()\n"
     ]
    },
    {
     "data": {
      "text/html": [
       "\n",
       "    <div>\n",
       "      \n",
       "      <progress value='63' max='63' style='width:300px; height:20px; vertical-align: middle;'></progress>\n",
       "      [63/63 01:41]\n",
       "    </div>\n",
       "    "
      ],
      "text/plain": [
       "<IPython.core.display.HTML object>"
      ]
     },
     "metadata": {},
     "output_type": "display_data"
    },
    {
     "name": "stdout",
     "output_type": "stream",
     "text": [
      "Evaluation results: {'eval_loss': 0.38475385308265686, 'eval_accuracy': 0.308, 'eval_f1': 0.2915154703802221, 'eval_precision': 0.3262441359809781, 'eval_recall': 0.3057692307692308, 'eval_runtime': 103.0449, 'eval_samples_per_second': 4.852, 'eval_steps_per_second': 0.611, 'epoch': 1.0}\n"
     ]
    },
    {
     "name": "stderr",
     "output_type": "stream",
     "text": [
      "/Users/rakeshkantharaju/anaconda3/lib/python3.11/site-packages/sklearn/metrics/_classification.py:1344: UndefinedMetricWarning: Precision and F-score are ill-defined and being set to 0.0 in labels with no predicted samples. Use `zero_division` parameter to control this behavior.\n",
      "  _warn_prf(average, modifier, msg_start, len(result))\n"
     ]
    }
   ],
   "source": [
    "# Trainer with compute_metrics\n",
    "trainer = Trainer(\n",
    "    model=model,\n",
    "    args=training_args,\n",
    "    train_dataset=train_dataset,\n",
    "    eval_dataset=val_dataset,\n",
    "    compute_metrics=compute_metrics\n",
    ")\n",
    "\n",
    "# Train the model\n",
    "trainer.train()\n",
    "\n",
    "# Evaluate the model\n",
    "eval_result = trainer.evaluate()\n",
    "\n",
    "print(\"Evaluation results:\", eval_result)\n",
    "\n",
    "# Convert predicted and actual labels back to their original form\n",
    "predicted_labels = mlb.inverse_transform(np.array(predicted_labels))\n",
    "actual_labels = mlb.inverse_transform(np.array(actual_labels))"
   ]
  },
  {
   "cell_type": "code",
   "execution_count": null,
   "id": "12eaf151-4e68-4102-9ae2-1b33bd880a4c",
   "metadata": {},
   "outputs": [],
   "source": [
    "# Print or save the predicted and actual labels for comparison\n",
    "for i, (pred, actual) in enumerate(zip(predicted_labels, actual_labels)):\n",
    "    print(f\"Sample {i}:\")\n",
    "    print(f\"  Predicted: {pred}\")\n",
    "    print(f\"  Actual: {actual}\")\n",
    "\n",
    "# Optionally, save to a file\n",
    "with open('predictions_vs_actuals.txt', 'w') as f:\n",
    "    for i, (pred, actual) in enumerate(zip(predicted_labels, actual_labels)):\n",
    "        f.write(f\"Sample {i}:\\n\")\n",
    "        f.write(f\"  Predicted: {pred}\\n\")\n",
    "        f.write(f\"  Actual: {actual}\\n\")"
   ]
  }
 ],
 "metadata": {
  "kernelspec": {
   "display_name": "Python 3 (ipykernel)",
   "language": "python",
   "name": "python3"
  },
  "language_info": {
   "codemirror_mode": {
    "name": "ipython",
    "version": 3
   },
   "file_extension": ".py",
   "mimetype": "text/x-python",
   "name": "python",
   "nbconvert_exporter": "python",
   "pygments_lexer": "ipython3",
   "version": "3.11.4"
  }
 },
 "nbformat": 4,
 "nbformat_minor": 5
}
